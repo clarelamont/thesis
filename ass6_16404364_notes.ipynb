{
 "cells": [
  {
   "cell_type": "markdown",
   "metadata": {},
   "source": [
    "# Assignment 6\n",
    "\n",
    "Clare Lamont 16404364"
   ]
  },
  {
   "cell_type": "code",
   "execution_count": null,
   "metadata": {},
   "outputs": [],
   "source": [
    "cd /Downloads\n",
    "\n",
    "# create a thesis directory\n",
    "mkdir thesis "
   ]
  },
  {
   "cell_type": "code",
   "execution_count": null,
   "metadata": {},
   "outputs": [],
   "source": [
    "# copy files from the previous two practicals into thesis\n",
    "cd HIV_Study\n",
    "cp -r * ~/Downloads/thesis\n",
    "\n",
    "cd ../\n",
    "cd test_data\n",
    "cp -r * ~/Downloads/thesis\n",
    "\n",
    "# check all the files have copied over\n",
    "cd ../\n",
    "cd thesis\n",
    "ls"
   ]
  },
  {
   "cell_type": "code",
   "execution_count": null,
   "metadata": {},
   "outputs": [],
   "source": [
    "# use following commands to install git if not already on machine\n",
    "sudo apt-get update\n",
    "sudo apt-get install git -y\n",
    "\n",
    "git config --global user.name \"First Last\"\n",
    "git config --global user.email \"example@example.com\""
   ]
  },
  {
   "cell_type": "code",
   "execution_count": null,
   "metadata": {},
   "outputs": [],
   "source": [
    "# start up git\n",
    "git init\n",
    "git config user.name \"First Last\"\n",
    "git config user.email \"user@domain\"\n",
    "git status    #'No commits yet'"
   ]
  },
  {
   "cell_type": "code",
   "execution_count": null,
   "metadata": {},
   "outputs": [],
   "source": [
    "ls -la      #should see all files plus a new .git"
   ]
  },
  {
   "cell_type": "code",
   "execution_count": null,
   "metadata": {},
   "outputs": [],
   "source": [
    "# use git add to track files \n",
    "git add README.txt     # repeat for all files you want to track\n",
    "\n",
    "git status             # will see changes to be commited & no comitted files\n",
    "\n",
    "git commit -m \"Add initial version of Assignment 6 code\"    # commit your data & comment the commit"
   ]
  },
  {
   "cell_type": "code",
   "execution_count": null,
   "metadata": {},
   "outputs": [],
   "source": [
    "git log\n",
    "\n",
    "Author: Clare Lamont <clareennis15@gmail.com>\n",
    "Date:   Wed Dec 16 15:55:04 2020 +0000\n",
    "\n",
    "    Add initial version of Assignment 6 code"
   ]
  },
  {
   "cell_type": "code",
   "execution_count": null,
   "metadata": {},
   "outputs": [],
   "source": [
    "git diff\n",
    "# gave no output because i made no changed to the files while they staged"
   ]
  },
  {
   "cell_type": "code",
   "execution_count": null,
   "metadata": {},
   "outputs": [],
   "source": [
    "# create remote git repository called thesis & get https\n",
    "git remote add origin https://github.com/clarelamont/thesis.git\n",
    "\n",
    "# push the files onto the online github repository\n",
    "git push origin master"
   ]
  },
  {
   "cell_type": "code",
   "execution_count": null,
   "metadata": {},
   "outputs": [],
   "source": [
    "# finish notebook, save, add & commit to Github\n",
    "\n",
    "# here's the link\n",
    "https://github.com/clarelamont/thesis"
   ]
  }
 ],
 "metadata": {
  "kernelspec": {
   "display_name": "Python 3",
   "language": "python",
   "name": "python3"
  },
  "language_info": {
   "codemirror_mode": {
    "name": "ipython",
    "version": 3
   },
   "file_extension": ".py",
   "mimetype": "text/x-python",
   "name": "python",
   "nbconvert_exporter": "python",
   "pygments_lexer": "ipython3",
   "version": "3.8.5"
  }
 },
 "nbformat": 4,
 "nbformat_minor": 4
}
